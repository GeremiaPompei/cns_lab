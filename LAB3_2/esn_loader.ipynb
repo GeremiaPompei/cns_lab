{
 "cells": [
  {
   "attachments": {},
   "cell_type": "markdown",
   "metadata": {},
   "source": [
    "# ESN loader\n",
    "\n",
    "Notebook used to load output variables of esn analysis."
   ]
  },
  {
   "cell_type": "code",
   "execution_count": 1,
   "metadata": {},
   "outputs": [],
   "source": [
    "import os\n",
    "import json\n",
    "import pickle\n",
    "from src.model.esn import ESN\n",
    "from src.model.esn_classification import ESNClassification\n",
    "from src.model.eusn_classification import EuSNClassification"
   ]
  },
  {
   "attachments": {},
   "cell_type": "markdown",
   "metadata": {},
   "source": [
    "Load variables on a dictionary that has filename as key and the loaded variable as value."
   ]
  },
  {
   "cell_type": "code",
   "execution_count": 2,
   "metadata": {},
   "outputs": [],
   "source": [
    "BASE_DIR = 'esn/variables/'\n",
    "\n",
    "models, hyperparams, mse = {}, {}, {}\n",
    "for filename in os.listdir(BASE_DIR):\n",
    "    with open(f'{BASE_DIR}{filename}', 'rb') as file:\n",
    "        if filename.endswith('hyperparams.json'):\n",
    "            hyperparams[filename] = json.load(file)\n",
    "        if filename.endswith('mse_data.json'):\n",
    "            mse[filename] = json.load(file)\n",
    "        if filename.endswith('.pickle'):\n",
    "            models[filename] = pickle.load(file)"
   ]
  },
  {
   "attachments": {},
   "cell_type": "markdown",
   "metadata": {},
   "source": [
    "## MSE"
   ]
  },
  {
   "attachments": {},
   "cell_type": "markdown",
   "metadata": {},
   "source": [
    "Mean Square Error for training, validation and test set of ESN related to narma 10 and Mackey-glass 17 datasets."
   ]
  },
  {
   "cell_type": "code",
   "execution_count": 3,
   "metadata": {},
   "outputs": [
    {
     "data": {
      "text/html": [
       "<div>\n",
       "<style scoped>\n",
       "    .dataframe tbody tr th:only-of-type {\n",
       "        vertical-align: middle;\n",
       "    }\n",
       "\n",
       "    .dataframe tbody tr th {\n",
       "        vertical-align: top;\n",
       "    }\n",
       "\n",
       "    .dataframe thead th {\n",
       "        text-align: right;\n",
       "    }\n",
       "</style>\n",
       "<table border=\"1\" class=\"dataframe\">\n",
       "  <thead>\n",
       "    <tr style=\"text-align: right;\">\n",
       "      <th></th>\n",
       "      <th>esn_mg17_mse_data.json</th>\n",
       "      <th>esn_narma10_mse_data.json</th>\n",
       "      <th>esn_mnist_mse_data.json</th>\n",
       "      <th>eusn_mnist_mse_data.json</th>\n",
       "    </tr>\n",
       "  </thead>\n",
       "  <tbody>\n",
       "    <tr>\n",
       "      <th>train_mse</th>\n",
       "      <td>0.000011</td>\n",
       "      <td>0.003974</td>\n",
       "      <td>0.055313</td>\n",
       "      <td>0.040022</td>\n",
       "    </tr>\n",
       "    <tr>\n",
       "      <th>validation_mse</th>\n",
       "      <td>0.000001</td>\n",
       "      <td>0.003215</td>\n",
       "      <td>0.053614</td>\n",
       "      <td>0.039565</td>\n",
       "    </tr>\n",
       "    <tr>\n",
       "      <th>test_mse</th>\n",
       "      <td>0.000004</td>\n",
       "      <td>0.003716</td>\n",
       "      <td>0.054973</td>\n",
       "      <td>0.039906</td>\n",
       "    </tr>\n",
       "  </tbody>\n",
       "</table>\n",
       "</div>"
      ],
      "text/plain": [
       "                esn_mg17_mse_data.json  esn_narma10_mse_data.json  \\\n",
       "train_mse                     0.000011                   0.003974   \n",
       "validation_mse                0.000001                   0.003215   \n",
       "test_mse                      0.000004                   0.003716   \n",
       "\n",
       "                esn_mnist_mse_data.json  eusn_mnist_mse_data.json  \n",
       "train_mse                      0.055313                  0.040022  \n",
       "validation_mse                 0.053614                  0.039565  \n",
       "test_mse                       0.054973                  0.039906  "
      ]
     },
     "execution_count": 3,
     "metadata": {},
     "output_type": "execute_result"
    }
   ],
   "source": [
    "import pandas as pd\n",
    "\n",
    "pd.DataFrame(mse)"
   ]
  },
  {
   "attachments": {},
   "cell_type": "markdown",
   "metadata": {},
   "source": [
    "## Hyperparams"
   ]
  },
  {
   "attachments": {},
   "cell_type": "markdown",
   "metadata": {},
   "source": [
    "Best hyperparams of ESN and EuSN models performed on narma 10, Mackey-glass 17 and MNIST datasets."
   ]
  },
  {
   "cell_type": "code",
   "execution_count": 4,
   "metadata": {},
   "outputs": [
    {
     "data": {
      "text/html": [
       "<div>\n",
       "<style scoped>\n",
       "    .dataframe tbody tr th:only-of-type {\n",
       "        vertical-align: middle;\n",
       "    }\n",
       "\n",
       "    .dataframe tbody tr th {\n",
       "        vertical-align: top;\n",
       "    }\n",
       "\n",
       "    .dataframe thead th {\n",
       "        text-align: right;\n",
       "    }\n",
       "</style>\n",
       "<table border=\"1\" class=\"dataframe\">\n",
       "  <thead>\n",
       "    <tr style=\"text-align: right;\">\n",
       "      <th></th>\n",
       "      <th>esn_mg17_best_hyperparams.json</th>\n",
       "      <th>esn_mnist_best_hyperparams.json</th>\n",
       "      <th>esn_narma10_best_hyperparams.json</th>\n",
       "      <th>eusn_mnist_best_hyperparams.json</th>\n",
       "    </tr>\n",
       "  </thead>\n",
       "  <tbody>\n",
       "    <tr>\n",
       "      <th>hidden_size</th>\n",
       "      <td>50.00000</td>\n",
       "      <td>100.000000</td>\n",
       "      <td>50.00000</td>\n",
       "      <td>100.000000</td>\n",
       "    </tr>\n",
       "    <tr>\n",
       "      <th>input_scaling</th>\n",
       "      <td>0.50000</td>\n",
       "      <td>0.500000</td>\n",
       "      <td>0.50000</td>\n",
       "      <td>0.500000</td>\n",
       "    </tr>\n",
       "    <tr>\n",
       "      <th>spectral_radius</th>\n",
       "      <td>0.90000</td>\n",
       "      <td>1.300000</td>\n",
       "      <td>0.90000</td>\n",
       "      <td>1.300000</td>\n",
       "    </tr>\n",
       "    <tr>\n",
       "      <th>leakage_rate</th>\n",
       "      <td>0.80000</td>\n",
       "      <td>0.010000</td>\n",
       "      <td>0.80000</td>\n",
       "      <td>NaN</td>\n",
       "    </tr>\n",
       "    <tr>\n",
       "      <th>sparsity</th>\n",
       "      <td>0.90000</td>\n",
       "      <td>0.900000</td>\n",
       "      <td>0.90000</td>\n",
       "      <td>0.900000</td>\n",
       "    </tr>\n",
       "    <tr>\n",
       "      <th>reg</th>\n",
       "      <td>0.00001</td>\n",
       "      <td>0.000001</td>\n",
       "      <td>0.00001</td>\n",
       "      <td>0.000001</td>\n",
       "    </tr>\n",
       "    <tr>\n",
       "      <th>transient</th>\n",
       "      <td>150.00000</td>\n",
       "      <td>NaN</td>\n",
       "      <td>150.00000</td>\n",
       "      <td>NaN</td>\n",
       "    </tr>\n",
       "    <tr>\n",
       "      <th>step_size</th>\n",
       "      <td>NaN</td>\n",
       "      <td>NaN</td>\n",
       "      <td>NaN</td>\n",
       "      <td>0.010000</td>\n",
       "    </tr>\n",
       "    <tr>\n",
       "      <th>diffusion_coefficient</th>\n",
       "      <td>NaN</td>\n",
       "      <td>NaN</td>\n",
       "      <td>NaN</td>\n",
       "      <td>0.010000</td>\n",
       "    </tr>\n",
       "  </tbody>\n",
       "</table>\n",
       "</div>"
      ],
      "text/plain": [
       "                       esn_mg17_best_hyperparams.json  \\\n",
       "hidden_size                                  50.00000   \n",
       "input_scaling                                 0.50000   \n",
       "spectral_radius                               0.90000   \n",
       "leakage_rate                                  0.80000   \n",
       "sparsity                                      0.90000   \n",
       "reg                                           0.00001   \n",
       "transient                                   150.00000   \n",
       "step_size                                         NaN   \n",
       "diffusion_coefficient                             NaN   \n",
       "\n",
       "                       esn_mnist_best_hyperparams.json  \\\n",
       "hidden_size                                 100.000000   \n",
       "input_scaling                                 0.500000   \n",
       "spectral_radius                               1.300000   \n",
       "leakage_rate                                  0.010000   \n",
       "sparsity                                      0.900000   \n",
       "reg                                           0.000001   \n",
       "transient                                          NaN   \n",
       "step_size                                          NaN   \n",
       "diffusion_coefficient                              NaN   \n",
       "\n",
       "                       esn_narma10_best_hyperparams.json  \\\n",
       "hidden_size                                     50.00000   \n",
       "input_scaling                                    0.50000   \n",
       "spectral_radius                                  0.90000   \n",
       "leakage_rate                                     0.80000   \n",
       "sparsity                                         0.90000   \n",
       "reg                                              0.00001   \n",
       "transient                                      150.00000   \n",
       "step_size                                            NaN   \n",
       "diffusion_coefficient                                NaN   \n",
       "\n",
       "                       eusn_mnist_best_hyperparams.json  \n",
       "hidden_size                                  100.000000  \n",
       "input_scaling                                  0.500000  \n",
       "spectral_radius                                1.300000  \n",
       "leakage_rate                                        NaN  \n",
       "sparsity                                       0.900000  \n",
       "reg                                            0.000001  \n",
       "transient                                           NaN  \n",
       "step_size                                      0.010000  \n",
       "diffusion_coefficient                          0.010000  "
      ]
     },
     "execution_count": 4,
     "metadata": {},
     "output_type": "execute_result"
    }
   ],
   "source": [
    "import pandas as pd\n",
    "\n",
    "pd.DataFrame(hyperparams)"
   ]
  },
  {
   "attachments": {},
   "cell_type": "markdown",
   "metadata": {},
   "source": [
    "## ESN and EuSN Models"
   ]
  },
  {
   "attachments": {},
   "cell_type": "markdown",
   "metadata": {},
   "source": [
    "Print the dictionary keys (filename for each model)."
   ]
  },
  {
   "cell_type": "code",
   "execution_count": 5,
   "metadata": {},
   "outputs": [
    {
     "data": {
      "text/plain": [
       "['esn_narma10_model.pickle',\n",
       " 'eusn_mnist_model.pickle',\n",
       " 'esn_mg17_model.pickle',\n",
       " 'esn_mnist_model.pickle']"
      ]
     },
     "execution_count": 5,
     "metadata": {},
     "output_type": "execute_result"
    }
   ],
   "source": [
    "list(models.keys())"
   ]
  },
  {
   "attachments": {},
   "cell_type": "markdown",
   "metadata": {},
   "source": [
    "Print all the dictionary."
   ]
  },
  {
   "cell_type": "code",
   "execution_count": 6,
   "metadata": {},
   "outputs": [
    {
     "data": {
      "text/plain": [
       "{'esn_narma10_model.pickle': <src.model.esn.ESN at 0x107bed540>,\n",
       " 'eusn_mnist_model.pickle': <src.model.eusn_classification.EuSNClassification at 0x107bed810>,\n",
       " 'esn_mg17_model.pickle': <src.model.esn.ESN at 0x107becd00>,\n",
       " 'esn_mnist_model.pickle': <src.model.esn_classification.ESNClassification at 0x107becdc0>}"
      ]
     },
     "execution_count": 6,
     "metadata": {},
     "output_type": "execute_result"
    }
   ],
   "source": [
    "models"
   ]
  },
  {
   "attachments": {},
   "cell_type": "markdown",
   "metadata": {},
   "source": [
    "Each model has the access to the following variables."
   ]
  },
  {
   "cell_type": "code",
   "execution_count": 7,
   "metadata": {},
   "outputs": [
    {
     "name": "stdout",
     "output_type": "stream",
     "text": [
      "ESN(w_in: (1, 50), w_hh: (50, 50), bias: (50, 1), w_out: (50, 1))\n"
     ]
    }
   ],
   "source": [
    "narma10_model = models['esn_narma10_model.pickle'] # get the narma10 model\n",
    "\n",
    "narma10_model.w_in          # weight matrix\n",
    "narma10_model.w_hh          # reservoir recurrent weight matrix\n",
    "narma10_model.bias          # bias vector\n",
    "narma10_model.w_out         # readout weight matrix\n",
    "\n",
    "print(narma10_model)"
   ]
  }
 ],
 "metadata": {
  "kernelspec": {
   "display_name": "venv",
   "language": "python",
   "name": "python3"
  },
  "language_info": {
   "codemirror_mode": {
    "name": "ipython",
    "version": 3
   },
   "file_extension": ".py",
   "mimetype": "text/x-python",
   "name": "python",
   "nbconvert_exporter": "python",
   "pygments_lexer": "ipython3",
   "version": "3.10.8"
  },
  "orig_nbformat": 4
 },
 "nbformat": 4,
 "nbformat_minor": 2
}

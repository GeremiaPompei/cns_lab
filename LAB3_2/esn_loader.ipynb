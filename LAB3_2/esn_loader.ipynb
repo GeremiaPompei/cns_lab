{
 "cells": [
  {
   "attachments": {},
   "cell_type": "markdown",
   "metadata": {},
   "source": [
    "# ESN loader\n",
    "\n",
    "Notebook used to load output variables of esn analysis."
   ]
  },
  {
   "cell_type": "code",
   "execution_count": 1,
   "metadata": {},
   "outputs": [],
   "source": [
    "import os\n",
    "import pickle\n",
    "from src.model.esn import ESN\n",
    "from src.model.esn_classification import ESNClassification"
   ]
  },
  {
   "attachments": {},
   "cell_type": "markdown",
   "metadata": {},
   "source": [
    "Load variables on a dictionary that has filename as key and the loaded variable as value."
   ]
  },
  {
   "cell_type": "code",
   "execution_count": 2,
   "metadata": {},
   "outputs": [],
   "source": [
    "BASE_DIR = 'esn/variables/'\n",
    "\n",
    "models = {}\n",
    "for filename in os.listdir(BASE_DIR):\n",
    "    if filename.endswith('.pickle'):\n",
    "        with open(f'{BASE_DIR}{filename}', 'rb') as file:\n",
    "            models[filename] = pickle.load(file)"
   ]
  },
  {
   "attachments": {},
   "cell_type": "markdown",
   "metadata": {},
   "source": [
    "Print the dictionary keys (filename for each model)."
   ]
  },
  {
   "cell_type": "code",
   "execution_count": 3,
   "metadata": {},
   "outputs": [
    {
     "data": {
      "text/plain": [
       "['esn_narma10_model.pickle', 'esn_mg17_model.pickle', 'esn_mnist_model.pickle']"
      ]
     },
     "execution_count": 3,
     "metadata": {},
     "output_type": "execute_result"
    }
   ],
   "source": [
    "list(models.keys())"
   ]
  },
  {
   "attachments": {},
   "cell_type": "markdown",
   "metadata": {},
   "source": [
    "Print all the dictionary."
   ]
  },
  {
   "cell_type": "code",
   "execution_count": 4,
   "metadata": {},
   "outputs": [
    {
     "data": {
      "text/plain": [
       "{'esn_narma10_model.pickle': <src.model.esn.ESN at 0x110b23610>,\n",
       " 'esn_mg17_model.pickle': <src.model.esn.ESN at 0x110a8cf40>,\n",
       " 'esn_mnist_model.pickle': <src.model.esn_classification.ESNClassification at 0x110a8d180>}"
      ]
     },
     "execution_count": 4,
     "metadata": {},
     "output_type": "execute_result"
    }
   ],
   "source": [
    "models"
   ]
  },
  {
   "attachments": {},
   "cell_type": "markdown",
   "metadata": {},
   "source": [
    "Each model has the access to the following variables."
   ]
  },
  {
   "cell_type": "code",
   "execution_count": 5,
   "metadata": {},
   "outputs": [
    {
     "name": "stdout",
     "output_type": "stream",
     "text": [
      "ESN(w_in: (1, 50), w_hh: (50, 50), bias: (50, 1), w_out: (50, 1))\n"
     ]
    }
   ],
   "source": [
    "narma10_model = models['esn_narma10_model.pickle'] # get the narma10 model\n",
    "\n",
    "narma10_model.w_in          # weight matrix\n",
    "narma10_model.w_hh          # reservoir recurrent weight matrix\n",
    "narma10_model.bias          # bias vector\n",
    "narma10_model.w_out         # readout weight matrix\n",
    "\n",
    "print(narma10_model)"
   ]
  }
 ],
 "metadata": {
  "kernelspec": {
   "display_name": "venv",
   "language": "python",
   "name": "python3"
  },
  "language_info": {
   "codemirror_mode": {
    "name": "ipython",
    "version": 3
   },
   "file_extension": ".py",
   "mimetype": "text/x-python",
   "name": "python",
   "nbconvert_exporter": "python",
   "pygments_lexer": "ipython3",
   "version": "3.10.8"
  },
  "orig_nbformat": 4
 },
 "nbformat": 4,
 "nbformat_minor": 2
}

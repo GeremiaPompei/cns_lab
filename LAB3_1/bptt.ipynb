{
 "cells": [
  {
   "cell_type": "markdown",
   "source": [
    "# LAB 3.1 - CNS (BPTT)\n"
   ],
   "metadata": {
    "collapsed": false
   }
  },
  {
   "cell_type": "markdown",
   "source": [
    "Import of libraries and fix of random seed."
   ],
   "metadata": {
    "collapsed": false
   }
  },
  {
   "cell_type": "code",
   "execution_count": 1,
   "metadata": {
    "collapsed": true
   },
   "outputs": [],
   "source": [
    "import random\n",
    "import numpy as np\n",
    "import matplotlib.pyplot as plt\n",
    "from tqdm.notebook import tqdm\n",
    "\n",
    "\n",
    "def set_seed(seed=0):\n",
    "    random.seed(seed)\n",
    "    np.random.seed(seed)\n",
    "\n",
    "\n",
    "set_seed(0)"
   ]
  },
  {
   "cell_type": "markdown",
   "source": [
    "# Bonus track 3 -  BackPropagation Through-Time algorithm from scratch\n"
   ],
   "metadata": {
    "collapsed": false
   }
  },
  {
   "cell_type": "markdown",
   "source": [
    "Data loading."
   ],
   "metadata": {
    "collapsed": false
   }
  },
  {
   "cell_type": "code",
   "execution_count": 2,
   "outputs": [
    {
     "data": {
      "text/plain": "((140, 4500, 1), (4500, 5), (140, 500, 1), (500, 5))"
     },
     "execution_count": 2,
     "metadata": {},
     "output_type": "execute_result"
    }
   ],
   "source": [
    "def load_data(train: bool = True) -> tuple[np.array, np.array]:\n",
    "    \"\"\"\n",
    "    Function able to load the dataset.\n",
    "\n",
    "    train: Flag able to specify if retrieve trian or test set.\n",
    "\n",
    "    return:\n",
    "        tuple[np.array, np.array]: Tuple of X and Y of dataset.\n",
    "    \"\"\"\n",
    "    filename = 'TRAIN' if train else 'TEST'\n",
    "    data = np.loadtxt(f'ECG5000_dataset/ECG5000_{filename}.txt')\n",
    "    X = np.expand_dims(data[:, 1:].T, -1)\n",
    "    Y = data[:, 0].astype(int)\n",
    "    Y -= Y.min()\n",
    "    one_hot = np.zeros((*Y.shape, len(set(Y.tolist()))))\n",
    "    for y, oh in zip(Y, one_hot):\n",
    "        oh[y] = 1\n",
    "    return X, one_hot\n",
    "\n",
    "\n",
    "TR_SET = load_data(train=False)\n",
    "TS_SET = load_data(train=True)\n",
    "\n",
    "X_TR_SET, Y_TR_SET = TR_SET\n",
    "X_TS_SET, Y_TS_SET = TS_SET\n",
    "\n",
    "X_TR_SET.shape, Y_TR_SET.shape, X_TS_SET.shape, Y_TS_SET.shape"
   ],
   "metadata": {
    "collapsed": false
   }
  },
  {
   "cell_type": "markdown",
   "source": [
    "Function able to simplify the plot of loss and metric."
   ],
   "metadata": {
    "collapsed": false
   }
  },
  {
   "cell_type": "code",
   "execution_count": 3,
   "outputs": [],
   "source": [
    "def _base_plot(tr: list, ts: list, name: str, yscale: str = None) -> None:\n",
    "    \"\"\"\n",
    "    Function able to plot training and test loss or metric results.\n",
    "    \"\"\"\n",
    "    plt.figure(figsize=(20, 10))\n",
    "    plt.plot(tr, label=f'tr_{name}')\n",
    "    plt.plot(ts, label=f'ts_{name}')\n",
    "    if yscale is not None:\n",
    "        plt.yscale('log')\n",
    "    plt.legend()\n",
    "    plt.grid(True)\n",
    "    plt.show()"
   ],
   "metadata": {
    "collapsed": false
   }
  },
  {
   "cell_type": "markdown",
   "source": [
    "Mean Square Error loss function definition."
   ],
   "metadata": {
    "collapsed": false
   }
  },
  {
   "cell_type": "code",
   "execution_count": 4,
   "outputs": [],
   "source": [
    "def mse(model, X: np.array, Y: np.array) -> float:\n",
    "    \"\"\"\n",
    "    MSE loss function.\n",
    "\n",
    "    model: Model used to retrieve predictions given an input X.\n",
    "    X: Input data.\n",
    "    Y: Output data.\n",
    "\n",
    "    returns:\n",
    "        float: MSE result.\n",
    "    \"\"\"\n",
    "    return ((Y - model(X)) ** 2).sum() / 2 * X.shape[1]"
   ],
   "metadata": {
    "collapsed": false
   }
  },
  {
   "cell_type": "markdown",
   "source": [
    "Accuracy metric function definition."
   ],
   "metadata": {
    "collapsed": false
   }
  },
  {
   "cell_type": "code",
   "execution_count": 11,
   "outputs": [],
   "source": [
    "def accuracy(model, X: np.array, Y: np.array) -> float:\n",
    "    \"\"\"\n",
    "    Accuracy metric function.\n",
    "\n",
    "    model: Model used to retrieve predictions given an input X.\n",
    "    X: Input data.\n",
    "    Y: Output data.\n",
    "\n",
    "    returns:\n",
    "        float: Accuracy result.\n",
    "    \"\"\"\n",
    "    return sum((Y.argmax(-1) - model(X).argmax(-1)) == 0) / Y.shape[0]"
   ],
   "metadata": {
    "collapsed": false
   }
  },
  {
   "cell_type": "markdown",
   "source": [
    "Class representing the vanilla RNN model where is implemented the BPTT learning algorithm."
   ],
   "metadata": {
    "collapsed": false
   }
  },
  {
   "cell_type": "code",
   "execution_count": 12,
   "outputs": [],
   "source": [
    "class VanillaRNN:\n",
    "    \"\"\"\n",
    "    Vanilla RNN model class.\n",
    "    \"\"\"\n",
    "\n",
    "    def __init__(\n",
    "            self,\n",
    "            input_size: int,\n",
    "            hidden_size: int,\n",
    "            output_size: int\n",
    "    ) -> None:\n",
    "        \"\"\"\n",
    "        Vanilla RNN model constructor method.\n",
    "\n",
    "        input_size: Input size.\n",
    "        hidden_size: Hidden size.\n",
    "        output_size: Output size.\n",
    "        \"\"\"\n",
    "        self.hidden_size = hidden_size\n",
    "\n",
    "        self.w_in = np.random.rand(input_size, hidden_size)\n",
    "        self.w_hh = np.random.rand(hidden_size, hidden_size)\n",
    "        self.w_out = np.random.rand(hidden_size, output_size)\n",
    "\n",
    "        self.z_list = []\n",
    "        self.h_list = []\n",
    "\n",
    "    def __call__(self, *args, **kwargs) -> np.array:\n",
    "        \"\"\"\n",
    "        Method able to call the forward function and return its output.\n",
    "\n",
    "        returns:\n",
    "            np.array: Forward output tensor.\n",
    "        \"\"\"\n",
    "        return self.forward(*args, **kwargs)[0]\n",
    "\n",
    "    def forward(\n",
    "            self,\n",
    "            X: np.array,\n",
    "            h: np.array = None\n",
    "    ) -> tuple[np.array, np.array]:\n",
    "        \"\"\"\n",
    "        Method able to compute the forward step of the model.\n",
    "\n",
    "        X: Input data to predict with forward method.\n",
    "        h: Initial hidden state.\n",
    "\n",
    "        returns:\n",
    "            tuple[np.array, np.array]: Output and last hidden state.\n",
    "        \"\"\"\n",
    "        if h is None:\n",
    "            h = np.random.rand(X.shape[1], self.hidden_size)\n",
    "        self.h_list.append(h)\n",
    "        for x in X:\n",
    "            z = x @ self.w_in + h @ self.w_hh\n",
    "            h = np.tanh(z)\n",
    "            self.z_list.append(z)\n",
    "            self.h_list.append(h)\n",
    "        output = h @ self.w_out\n",
    "        return output, h\n",
    "\n",
    "    def backward(\n",
    "            self,\n",
    "            X: np.array,\n",
    "            Y: np.array\n",
    "    ) -> tuple[np.array, np.array, np.array]:\n",
    "        \"\"\"\n",
    "        Method able to compute the backward pass of the algorithm.\n",
    "\n",
    "        X: Input data.\n",
    "        Y: Output data.\n",
    "\n",
    "        returns:\n",
    "            tuple[np.array, np.array, np.array]: Gradients of weights.\n",
    "        \"\"\"\n",
    "        self.z_list = []\n",
    "        preds, h = self.forward(X)\n",
    "        D_z_list = [1 - np.tanh(np.diag(np.diag(z))) ** 2 for z in self.z_list]\n",
    "        g_mse = - 2 / X.shape[1] * (Y - preds)\n",
    "        g_w_in = 0\n",
    "        g_w_hh = 0\n",
    "        g_out = h.T @ g_mse\n",
    "        for t in range(X.shape[0]):\n",
    "            product = 1\n",
    "            for k in range(t, len(D_z_list) - 1):\n",
    "                product *= D_z_list[k] @ self.w_hh.T\n",
    "            base = product * D_z_list[-1] @ self.w_out @ g_mse.T\n",
    "            g_w_in += base @ X[t]\n",
    "            g_w_hh += base @ self.h_list[t]\n",
    "        return g_w_in.T, g_w_hh, g_out\n",
    "\n",
    "    def train(\n",
    "            self,\n",
    "            TR: tuple[np.array, np.array],\n",
    "            TS: tuple[np.array, np.array],\n",
    "            epochs: int = 10,\n",
    "            lr: float = 0.1,\n",
    "            momentum: float = 0.9,\n",
    "            reg: float = 0.01,\n",
    "            clip: float = 1\n",
    "    ) -> tuple[np.array, np.array, np.array, np.array]:\n",
    "        \"\"\"\n",
    "        Method able to train the model.\n",
    "\n",
    "        TR: Training set.\n",
    "        TS: Test set.\n",
    "        epochs: Number of epochs used to train the model.\n",
    "        lr: Learning rate of SGD.\n",
    "        momentum: Hyperparameter of momentum.\n",
    "        reg: Hyperparameter of Thikonov regularization.\n",
    "        clip: Hyperparameter og clipping gradient.\n",
    "\n",
    "        returns:\n",
    "            tuple[np.array, np.array, np.array, np.array]: Training and test mse and accuracies.\n",
    "        \"\"\"\n",
    "        prev_g_w_in, prev_g_w_hh, prev_g_out = 0, 0, 0\n",
    "        clip_grad = lambda x: clip * x / np.linalg.norm(x)\n",
    "        X_TR, Y_TR = TR\n",
    "        X_TS, Y_TS = TS\n",
    "        tr_loss, ts_loss = [], []\n",
    "        tr_metric, ts_metric = [], []\n",
    "        for _ in tqdm(range(epochs)):\n",
    "            g_w_in, g_w_hh, g_out = [clip_grad(w) for w in self.backward(X_TR, Y_TR)]\n",
    "\n",
    "            v_in = momentum * prev_g_w_in + g_w_in\n",
    "            self.w_in -= lr * v_in + reg * np.linalg.norm(self.w_in) ** 2\n",
    "            prev_g_w_in = v_in\n",
    "\n",
    "            v_hh = momentum * prev_g_w_hh + g_w_hh\n",
    "            self.w_hh -= lr * v_hh + reg * np.linalg.norm(self.w_hh) ** 2\n",
    "            prev_g_w_hh = v_hh\n",
    "\n",
    "            v_out = momentum * prev_g_out + g_out\n",
    "            self.w_out -= lr * v_out + reg * np.linalg.norm(self.w_out) ** 2\n",
    "            prev_g_out = v_out\n",
    "\n",
    "            tr_loss.append(mse(self, X_TR, Y_TR))\n",
    "            ts_loss.append(mse(self, X_TS, Y_TS))\n",
    "            tr_metric.append(accuracy(self, X_TR, Y_TR))\n",
    "            ts_metric.append(accuracy(self, X_TS, Y_TS))\n",
    "        return tr_loss, ts_loss, tr_metric, ts_metric"
   ],
   "metadata": {
    "collapsed": false
   }
  },
  {
   "cell_type": "markdown",
   "source": [
    "Model creation and training."
   ],
   "metadata": {
    "collapsed": false
   }
  },
  {
   "cell_type": "code",
   "execution_count": null,
   "outputs": [
    {
     "data": {
      "text/plain": "  0%|          | 0/20 [00:00<?, ?it/s]",
      "application/vnd.jupyter.widget-view+json": {
       "version_major": 2,
       "version_minor": 0,
       "model_id": "651c0cc78dd44b95b3d2e2fe7e5af7b1"
      }
     },
     "metadata": {},
     "output_type": "display_data"
    }
   ],
   "source": [
    "model = VanillaRNN(X_TR_SET.shape[-1], 100, Y_TR_SET.shape[-1])\n",
    "\n",
    "tr_loss, ts_loss, tr_metric, ts_metric = model.train(TR_SET, TS_SET, epochs=20, momentum=0.9, lr=0.01, reg=0.0001, clip=0.8)"
   ],
   "metadata": {
    "collapsed": false,
    "pycharm": {
     "is_executing": true
    }
   }
  },
  {
   "cell_type": "markdown",
   "source": [
    "Plot of training and test MSE."
   ],
   "metadata": {
    "collapsed": false
   }
  },
  {
   "cell_type": "code",
   "execution_count": null,
   "outputs": [],
   "source": [
    "_base_plot(tr_loss, ts_loss, name='mse', yscale='log')"
   ],
   "metadata": {
    "collapsed": false,
    "pycharm": {
     "is_executing": true
    }
   }
  },
  {
   "cell_type": "markdown",
   "source": [
    "Plot of training and test Accuracy."
   ],
   "metadata": {
    "collapsed": false
   }
  },
  {
   "cell_type": "code",
   "execution_count": null,
   "outputs": [],
   "source": [
    "_base_plot(tr_metric, ts_metric, name='accuracy')"
   ],
   "metadata": {
    "collapsed": false,
    "pycharm": {
     "is_executing": true
    }
   }
  },
  {
   "cell_type": "code",
   "execution_count": null,
   "outputs": [],
   "source": [],
   "metadata": {
    "collapsed": false
   }
  }
 ],
 "metadata": {
  "kernelspec": {
   "display_name": "Python 3",
   "language": "python",
   "name": "python3"
  },
  "language_info": {
   "codemirror_mode": {
    "name": "ipython",
    "version": 2
   },
   "file_extension": ".py",
   "mimetype": "text/x-python",
   "name": "python",
   "nbconvert_exporter": "python",
   "pygments_lexer": "ipython2",
   "version": "2.7.6"
  }
 },
 "nbformat": 4,
 "nbformat_minor": 0
}

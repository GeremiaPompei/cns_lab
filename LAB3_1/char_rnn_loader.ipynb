{
 "cells": [
  {
   "attachments": {},
   "cell_type": "markdown",
   "metadata": {},
   "source": [
    "# Char RNN loader\n",
    "\n",
    "Notebook used to load output variables of Char RNN analysis."
   ]
  },
  {
   "attachments": {},
   "cell_type": "markdown",
   "metadata": {},
   "source": [
    "CharRNN hyperparams of best generated sentence."
   ]
  },
  {
   "cell_type": "code",
   "execution_count": 1,
   "metadata": {},
   "outputs": [
    {
     "data": {
      "text/plain": [
       "{'hidden_state': 128,\n",
       " 'n_layers': 2,\n",
       " 'bidirectional': True,\n",
       " 'epochs': 30,\n",
       " 'batch_size': 1024,\n",
       " 'lr': 0.001,\n",
       " 'recurrent_layer': 'torch.nn.modules.rnn.GRU',\n",
       " 'temperature': 0.6}"
      ]
     },
     "execution_count": 1,
     "metadata": {},
     "output_type": "execute_result"
    }
   ],
   "source": [
    "import json\n",
    "\n",
    "with open('char_rnn/best_generated_sentence_hyperparams.json') as file:\n",
    "    best_generated_sentance_hyperparams = json.load(file)\n",
    "\n",
    "best_generated_sentance_hyperparams"
   ]
  },
  {
   "attachments": {},
   "cell_type": "markdown",
   "metadata": {},
   "source": [
    "CharRNN of best generated sentence."
   ]
  },
  {
   "cell_type": "code",
   "execution_count": 3,
   "metadata": {},
   "outputs": [
    {
     "data": {
      "text/plain": [
       "\"nera' suo padre e sua madre e si unira' a sua moglie e i due servi in cui comminato il sacrificio espiatorio e le vita della tenda dell'altare e la colonna del sangue all'altare, il signore ha ordinato dal signore per il signore cioe' nel farione, perch� sacrifira' il sacrificio espiatorio e diede l'offerta alla periliene e il popolo. [13]nel comando a mose'\""
      ]
     },
     "execution_count": 3,
     "metadata": {},
     "output_type": "execute_result"
    }
   ],
   "source": [
    "with open('char_rnn/best_generated_sentence.txt') as file:\n",
    "    best_generated_sentance = file.read()\n",
    "\n",
    "best_generated_sentance"
   ]
  }
 ],
 "metadata": {
  "kernelspec": {
   "display_name": "venv",
   "language": "python",
   "name": "python3"
  },
  "language_info": {
   "codemirror_mode": {
    "name": "ipython",
    "version": 3
   },
   "file_extension": ".py",
   "mimetype": "text/x-python",
   "name": "python",
   "nbconvert_exporter": "python",
   "pygments_lexer": "ipython3",
   "version": "3.10.8"
  },
  "orig_nbformat": 4
 },
 "nbformat": 4,
 "nbformat_minor": 2
}

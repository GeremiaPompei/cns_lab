{
 "cells": [
  {
   "cell_type": "markdown",
   "source": [
    "# LAB 2.2 - CNS (Hopfield model)"
   ],
   "metadata": {
    "collapsed": false
   }
  },
  {
   "cell_type": "markdown",
   "source": [
    "Import of libraries and fix of random seed."
   ],
   "metadata": {
    "collapsed": false
   }
  },
  {
   "cell_type": "code",
   "execution_count": null,
   "metadata": {
    "collapsed": true,
    "pycharm": {
     "is_executing": true
    }
   },
   "outputs": [],
   "source": [
    "import numpy as np\n",
    "import matplotlib.pyplot as plt\n",
    "import random\n",
    "from tqdm.notebook import tqdm\n",
    "from typing import Callable\n",
    "\n",
    "random.seed(0)\n",
    "np.random.seed(0)"
   ]
  },
  {
   "cell_type": "markdown",
   "source": [
    "Loading of dataset."
   ],
   "metadata": {
    "collapsed": false
   }
  },
  {
   "cell_type": "code",
   "execution_count": null,
   "outputs": [],
   "source": [
    "def load_p_data(filename: str) -> np.array:\n",
    "    \"\"\"\n",
    "    Function able to load the dataset of filename variable.\n",
    "\n",
    "    filename: Name of file where is the dataset.\n",
    "\n",
    "    returns:\n",
    "        np.array: data loaded from the file.\n",
    "    \"\"\"\n",
    "    with open(f'lab2_2_data/{filename}.csv') as file:\n",
    "        return np.array(file.read().split('\\n')[:-1]).astype(np.int32)\n",
    "\n",
    "\n",
    "p0 = load_p_data('p0')\n",
    "p1 = load_p_data('p1')\n",
    "p2 = load_p_data('p2')"
   ],
   "metadata": {
    "collapsed": false,
    "pycharm": {
     "is_executing": true
    }
   }
  },
  {
   "cell_type": "markdown",
   "source": [
    "Function able to show an image from its vector version."
   ],
   "metadata": {
    "collapsed": false
   }
  },
  {
   "cell_type": "code",
   "execution_count": null,
   "outputs": [],
   "source": [
    "def show_img(p: np.array, ax=plt) -> None:\n",
    "    \"\"\"\n",
    "    Function able to show the image related to the p vector.\n",
    "\n",
    "    p: Vector related to the image to plot.\n",
    "    \"\"\"\n",
    "    ax.imshow(p.reshape(32, 32).T, cmap='gray', vmin=-1, vmax=1)"
   ],
   "metadata": {
    "collapsed": false,
    "pycharm": {
     "is_executing": true
    }
   }
  },
  {
   "cell_type": "markdown",
   "source": [
    "Image of 0 digit (p0 vector)."
   ],
   "metadata": {
    "collapsed": false
   }
  },
  {
   "cell_type": "code",
   "execution_count": null,
   "outputs": [],
   "source": [
    "show_img(p0)"
   ],
   "metadata": {
    "collapsed": false,
    "pycharm": {
     "is_executing": true
    }
   }
  },
  {
   "cell_type": "markdown",
   "source": [
    "Image of 1 digit (p1 vector)."
   ],
   "metadata": {
    "collapsed": false
   }
  },
  {
   "cell_type": "code",
   "execution_count": null,
   "outputs": [],
   "source": [
    "show_img(p1)"
   ],
   "metadata": {
    "collapsed": false,
    "pycharm": {
     "is_executing": true
    }
   }
  },
  {
   "cell_type": "markdown",
   "source": [
    "Image of 2 digit (p2 vector)."
   ],
   "metadata": {
    "collapsed": false
   }
  },
  {
   "cell_type": "code",
   "execution_count": null,
   "outputs": [],
   "source": [
    "show_img(p2)"
   ],
   "metadata": {
    "collapsed": false,
    "pycharm": {
     "is_executing": true
    }
   }
  },
  {
   "cell_type": "markdown",
   "source": [
    "Function able to swap the sign of some values inside a vector given the proportion `prop` that lives between 0 and 1."
   ],
   "metadata": {
    "collapsed": false
   }
  },
  {
   "cell_type": "code",
   "execution_count": null,
   "outputs": [],
   "source": [
    "def distort_image(orig_img: np.array, prop: float = 0.05) -> np.array:\n",
    "    \"\"\"\n",
    "    Function able to swap some sign of a vector in proportion to the value of prop.\n",
    "\n",
    "    orig_img: image to distort.\n",
    "    prop: Proportion of values to swap.\n",
    "\n",
    "    returns:\n",
    "        np.array: Distort version of vector.\n",
    "    \"\"\"\n",
    "    img = orig_img.copy()\n",
    "    if prop < 0 or prop > 1:\n",
    "        print('Out-of-bound proportion: going to default 0.05')\n",
    "        prop = 0.05\n",
    "    indx = np.random.permutation(len(img))\n",
    "    todist = indx[1:int(len(indx) * prop)]\n",
    "    img[todist] = -img[todist]\n",
    "    return img\n",
    "\n",
    "\n",
    "show_img(distort_image(p1, prop=0.01))"
   ],
   "metadata": {
    "collapsed": false,
    "pycharm": {
     "is_executing": true
    }
   }
  },
  {
   "cell_type": "markdown",
   "source": [
    "## Model"
   ],
   "metadata": {
    "collapsed": false
   }
  },
  {
   "cell_type": "markdown",
   "source": [
    "Definition of a class for the Hopfield network model."
   ],
   "metadata": {
    "collapsed": false
   }
  },
  {
   "cell_type": "code",
   "execution_count": null,
   "outputs": [],
   "source": [
    "class HopfieldNetwork:\n",
    "    \"\"\"Class of Hopfield network model.\"\"\"\n",
    "\n",
    "    def __init__(self, patterns: np.array, bias: float = 0) -> None:\n",
    "        \"\"\"\n",
    "        Constructor of Hopfield network model class.\n",
    "\n",
    "        patterns: Training patterns used to initialize W matrix of weights.\n",
    "        bias: Bias value of network.\n",
    "        \"\"\"\n",
    "        self.M, self.N = patterns.shape\n",
    "        self.patterns = patterns\n",
    "        self.bias = bias\n",
    "        self.W = self.store()\n",
    "\n",
    "    def store(self) -> np.array:\n",
    "        \"\"\"\n",
    "        Store function used to compute weights of network. (Hebbian learning)\n",
    "\n",
    "        returns:\n",
    "            np.array: Computed weights.\n",
    "        \"\"\"\n",
    "        return (self.patterns.T @ self.patterns - self.M * np.eye(self.N)) / self.N\n",
    "\n",
    "    def overlap(self, state: np.array) -> list[float]:\n",
    "        \"\"\"\n",
    "        Overlap function that computes the similarity between patterns and a given state.\n",
    "\n",
    "        state: State compared with patterns.\n",
    "\n",
    "        returns:\n",
    "            list[float]: Similarity of the state with all the patterns. Each value lives between -1 and +1.\n",
    "        \"\"\"\n",
    "        return [(pattern @ state / self.N) for pattern in self.patterns]\n",
    "\n",
    "    def energy(self, state: np.array) -> float:\n",
    "        \"\"\"\n",
    "        Energy function of Hopfield model.\n",
    "\n",
    "        state: State used to compute the energy.\n",
    "\n",
    "        returns:\n",
    "            float: Value of the energy.\n",
    "        \"\"\"\n",
    "        return - state.T @ self.W @ state / 2\n",
    "\n",
    "    def retrieval(self, state: np.array) -> list[np.array]:\n",
    "        \"\"\"\n",
    "        Retrieval function able to run the algorithm to reconstruct a distorted vector.\n",
    "\n",
    "        state: Distorted state to reconstruct.\n",
    "\n",
    "        returns:\n",
    "            list[np.array]: History of reconstruction of state. This contains all the intermediate states from the distorted to the reconstructed one.\n",
    "        \"\"\"\n",
    "        states = [state.copy()]\n",
    "        X, X_old = state.copy(), None\n",
    "        while X_old is None or not np.array_equal(X_old, X):\n",
    "            X_old = X.copy()\n",
    "            perms = np.random.permutation(range(self.N))\n",
    "            for j in perms:\n",
    "                X[j] = np.sign(self.W[j] @ X + self.bias)\n",
    "                states.append(X.copy())\n",
    "        return states"
   ],
   "metadata": {
    "collapsed": false,
    "pycharm": {
     "is_executing": true
    }
   }
  },
  {
   "cell_type": "markdown",
   "source": [
    "Definition of discrepancy function."
   ],
   "metadata": {
    "collapsed": false
   }
  },
  {
   "cell_type": "code",
   "execution_count": null,
   "outputs": [],
   "source": [
    "def discrepancy(X1: np.array, X2: np.array) -> float:\n",
    "    \"\"\"\n",
    "    Discrepancy function based on Hamming distance normalized with respect the length of the vector (so this is represented in percentage).\n",
    "\n",
    "    X1: State one.\n",
    "    X2: State two.\n",
    "\n",
    "    returns:\n",
    "        float: Hamming distance scaled. This value lives between 0 and 1. When is 0 X1 and X2 are the same.\n",
    "    \"\"\"\n",
    "    return ((X1 - X2) != 0).sum() / X1.shape[0]"
   ],
   "metadata": {
    "collapsed": false,
    "pycharm": {
     "is_executing": true
    }
   }
  },
  {
   "cell_type": "markdown",
   "source": [
    "Function able to perform the retrieval phase of an Hopfield network model for each of hist pattern and some proportion of distortions."
   ],
   "metadata": {
    "collapsed": false
   }
  },
  {
   "cell_type": "code",
   "execution_count": null,
   "outputs": [],
   "source": [
    "def perform_retrieval(model: HopfieldNetwork, props: list[float]) -> tuple[float, dict]:\n",
    "    \"\"\"\n",
    "    Function able to perform the retrieval part of an Hopfield model for some patterns and prop and give the mean of discrepancy.\n",
    "\n",
    "    model: Hopfield network model.\n",
    "    props: Proportion of distortion applied to each pattern to create the initial distorted state.\n",
    "\n",
    "    returns:\n",
    "        tuple[float, dict]: Tuple containing the mean of discrepancies computed for each pattern and props and the history of each state list connected to related pattern and prop.\n",
    "    \"\"\"\n",
    "    history = []\n",
    "    tot_discrepancy = 0\n",
    "    for pattern_index, pattern in enumerate(model.patterns):\n",
    "        for prop in props:\n",
    "            # initialization\n",
    "            X = distort_image(pattern, prop=prop)\n",
    "            # iteration until convergence\n",
    "            states = model.retrieval(X)\n",
    "            # get last state that is the reconstruction of X\n",
    "            X_rec = states[-1]\n",
    "            # add the current discrepancy between X and X_rec\n",
    "            tot_discrepancy += discrepancy(X, X_rec)\n",
    "            # storing result in the history\n",
    "            history.append((pattern_index, prop, states))\n",
    "    mean_discrepancy = tot_discrepancy / (len(model.patterns) * len(props))\n",
    "    return mean_discrepancy, history"
   ],
   "metadata": {
    "collapsed": false,
    "pycharm": {
     "is_executing": true
    }
   }
  },
  {
   "cell_type": "markdown",
   "source": [
    "Model selection function used to find the best bias that minimize the mean of discrepancies given the model patterns and some proportion of distortion."
   ],
   "metadata": {
    "collapsed": false
   }
  },
  {
   "cell_type": "code",
   "execution_count": null,
   "outputs": [],
   "source": [
    "def find_best_bias(patterns: np.array, props: list[float], attempts: int = 5) -> float:\n",
    "    \"\"\"\n",
    "    Model selection function used to find the best bias that minimize the mean of discrepancies given patterns and props.\n",
    "\n",
    "    patterns: Patterns to initialize the model and compute weights and used also in the retrieval phase.\n",
    "    props: Proportion of distortion passed to the perform_retrieval function.\n",
    "    attempts: Number of attempts of random bias initialization.\n",
    "\n",
    "    returns:\n",
    "        float: Best bias (the one that minimize the mean discrepancy).\n",
    "    \"\"\"\n",
    "    best_bias, minimum_discrepancy = None, None\n",
    "    for _ in tqdm(range(attempts)):\n",
    "        # initialize bias\n",
    "        bias = np.random.rand() * 2 - 1\n",
    "        # initialize the model. In this phase is called also the storage function to initialize the weights.\n",
    "        model = HopfieldNetwork(patterns, bias)\n",
    "        # performing of retrieval phase on each pattern and props and getting of mean discrepancy\n",
    "        mean_discrepancy, _ = perform_retrieval(model, props)\n",
    "        if minimum_discrepancy is None or mean_discrepancy < minimum_discrepancy:\n",
    "            minimum_discrepancy = mean_discrepancy\n",
    "            best_bias = bias\n",
    "    return best_bias"
   ],
   "metadata": {
    "collapsed": false,
    "pycharm": {
     "is_executing": true
    }
   }
  },
  {
   "cell_type": "markdown",
   "source": [
    "Definition of our patterns and props."
   ],
   "metadata": {
    "collapsed": false
   }
  },
  {
   "cell_type": "code",
   "execution_count": null,
   "outputs": [],
   "source": [
    "patterns = np.array([p.copy() for p in [p0, p1, p2]])\n",
    "\n",
    "props: list[float] = [0.05, 0.1, 0.25]"
   ],
   "metadata": {
    "collapsed": false,
    "pycharm": {
     "is_executing": true
    }
   }
  },
  {
   "cell_type": "markdown",
   "source": [
    "Model selection to find the best bias"
   ],
   "metadata": {
    "collapsed": false
   }
  },
  {
   "cell_type": "code",
   "execution_count": null,
   "outputs": [],
   "source": [
    "bias = find_best_bias(patterns, props, attempts=100)\n",
    "model = HopfieldNetwork(patterns, bias)\n",
    "mean_discrepancy, history = perform_retrieval(model, props)"
   ],
   "metadata": {
    "collapsed": false,
    "pycharm": {
     "is_executing": true
    }
   }
  },
  {
   "cell_type": "markdown",
   "source": [
    "Plot of analysis results. For each pattern and proportion of distortion are plot energy function, overlap function and image reconstruction."
   ],
   "metadata": {
    "collapsed": false
   }
  },
  {
   "cell_type": "code",
   "execution_count": null,
   "outputs": [],
   "source": [
    "create_filepath = lambda pattern_index, prop, func: f'hopfield_plots/distorted_{pattern_index}_{prop}_{func}.png'\n",
    "\n",
    "\n",
    "def plot_energy(model: HopfieldNetwork, pattern_index: int, prop: float, states: list[np.array]) -> None:\n",
    "    \"\"\"\n",
    "    Function able to plot the energy function.\n",
    "    \"\"\"\n",
    "    plt.figure(figsize=(20, 10))\n",
    "    plt.title('Energy function')\n",
    "    plt.plot([model.energy(state) for state in states])\n",
    "    plt.xlabel('time')\n",
    "    plt.ylabel('energy')\n",
    "    plt.grid(True)\n",
    "    plt.savefig(create_filepath(pattern_index, prop, 'energy'))\n",
    "    plt.show()\n",
    "\n",
    "\n",
    "def plot_overlap(model: HopfieldNetwork, pattern_index: int, prop: float, states: list[np.array]) -> None:\n",
    "    \"\"\"\n",
    "    Function able to plot the overlap function.\n",
    "    \"\"\"\n",
    "    plt.figure(figsize=(20, 10))\n",
    "    plt.title('Overlap function')\n",
    "    for p, _ in enumerate(model.patterns):\n",
    "        plt.plot([model.overlap(state)[p] for state in states], label=f'p{p}')\n",
    "    plt.xlabel('time')\n",
    "    plt.ylabel('overlap')\n",
    "    plt.grid(True)\n",
    "    plt.legend()\n",
    "    plt.savefig(create_filepath(pattern_index, prop, 'overlap'))\n",
    "    plt.show()\n",
    "\n",
    "\n",
    "def plot_reconstruction(model: HopfieldNetwork, pattern_index: int, prop: float, states: list[np.array]) -> None:\n",
    "    \"\"\"\n",
    "    Function able to plot the the images related to: distortion, reconstruction and the original pattern.\n",
    "    \"\"\"\n",
    "    pattern = model.patterns[pattern_index]\n",
    "    d = discrepancy(pattern, states[-1])\n",
    "    fig, ax = plt.subplots(1, 3, figsize=(20, 10))\n",
    "    fig.suptitle(f'Reconstruction with discrepancy of {d * 100}%')\n",
    "    show_img(states[0], ax=ax[0])\n",
    "    ax[0].set_xlabel('distorted')\n",
    "    show_img(states[-1], ax=ax[1])\n",
    "    ax[1].set_xlabel('reconstructed')\n",
    "    show_img(pattern, ax=ax[2])\n",
    "    ax[2].set_xlabel('original')\n",
    "    plt.savefig(create_filepath(pattern_index, prop, 'reconstructed'))\n",
    "    plt.show()\n",
    "\n",
    "\n",
    "def plot_from_history(model: HopfieldNetwork, history: list[tuple]) -> None:\n",
    "    \"\"\"\n",
    "    Plot all about history.\n",
    "    \"\"\"\n",
    "    for pattern_index, prop, states in history:\n",
    "        print('Pattern', pattern_index, '-', 'Proportion of distortion:', prop)\n",
    "        plot_energy(model, pattern_index, prop, states)\n",
    "        plot_overlap(model, pattern_index, prop, states)\n",
    "        plot_reconstruction(model, pattern_index, prop, states)\n",
    "\n",
    "\n",
    "plot_from_history(model, history)"
   ],
   "metadata": {
    "collapsed": false,
    "pycharm": {
     "is_executing": true
    }
   }
  },
  {
   "cell_type": "markdown",
   "source": [
    "# Bonus track - Synthetic data"
   ],
   "metadata": {
    "collapsed": false
   }
  },
  {
   "cell_type": "markdown",
   "source": [
    "Creation of new patterns."
   ],
   "metadata": {
    "collapsed": false
   }
  },
  {
   "cell_type": "code",
   "execution_count": null,
   "outputs": [],
   "source": [
    "p1 = np.array([-1, -1, +1, -1, +1, -1, -1, +1])\n",
    "p2 = np.array([-1, -1, -1, -1, -1, +1, -1, -1])\n",
    "p3 = np.array([-1, +1, +1, -1, -1, +1, -1, +1])\n",
    "\n",
    "sd_patterns = np.array([p1, p2, p3])"
   ],
   "metadata": {
    "collapsed": false,
    "pycharm": {
     "is_executing": true
    }
   }
  },
  {
   "cell_type": "markdown",
   "source": [
    "Creation of distorted patterns."
   ],
   "metadata": {
    "collapsed": false
   }
  },
  {
   "cell_type": "code",
   "execution_count": null,
   "outputs": [],
   "source": [
    "p1d = np.array([+1, -1, +1, -1, +1, -1, -1, +1])\n",
    "p2d = np.array([+1, +1, -1, -1, -1, +1, -1, -1])\n",
    "p3d = np.array([+1, +1, +1, -1, +1, +1, -1, +1])\n",
    "\n",
    "sd_d_patterns = np.array([p1d, p2d, p3d])"
   ],
   "metadata": {
    "collapsed": false,
    "pycharm": {
     "is_executing": true
    }
   }
  },
  {
   "cell_type": "markdown",
   "source": [
    "Creation of Hopfield network on new patterns and run of retrieval phase for each distortion of patterns until convergence."
   ],
   "metadata": {
    "collapsed": false
   }
  },
  {
   "cell_type": "code",
   "execution_count": null,
   "outputs": [],
   "source": [
    "sd_model = HopfieldNetwork(sd_patterns, bias=0)\n",
    "\n",
    "sd_history = []\n",
    "\n",
    "for i_d, pd in enumerate(sd_d_patterns):\n",
    "    states = sd_model.retrieval(pd)\n",
    "    sd_history.append(states)"
   ],
   "metadata": {
    "collapsed": false,
    "pycharm": {
     "is_executing": true
    }
   }
  },
  {
   "cell_type": "markdown",
   "source": [
    "Print results."
   ],
   "metadata": {
    "collapsed": false
   }
  },
  {
   "cell_type": "code",
   "execution_count": null,
   "outputs": [],
   "source": [
    "for i_d, states in enumerate(sd_history):\n",
    "    print(f'Pattern {i_d + 1}')\n",
    "    print('\\t', 'discrepancy:', discrepancy(sd_patterns[i_d], states[-1]) * 100, '%')\n",
    "    print('\\t', sd_d_patterns[i_d], '\\tdistorted')\n",
    "    print('\\t', states[-1], '\\treconstructed')\n",
    "    print('\\t', sd_patterns[i_d], '\\toriginal')"
   ],
   "metadata": {
    "collapsed": false,
    "pycharm": {
     "is_executing": true
    }
   }
  },
  {
   "cell_type": "markdown",
   "source": [
    "Plots of activations for each pattern."
   ],
   "metadata": {
    "collapsed": false
   }
  },
  {
   "cell_type": "code",
   "execution_count": null,
   "outputs": [],
   "source": [
    "for i_d, pd in enumerate(sd_history):\n",
    "    matrix = np.array(pd).T\n",
    "    plt.figure(figsize=(20, 10))\n",
    "    plt.title(f'Activations related to pattern p{i_d + 1}')\n",
    "    plt.imshow(matrix, cmap='gray', vmin=-1, vmax=1)\n",
    "    plt.xlabel(f'time')\n",
    "    plt.ylabel(f'neurons')\n",
    "    plt.grid(True)\n",
    "    np.save(f'matrices/activations_{i_d + 1}', matrix)\n",
    "    plt.savefig(f'hopfield_plots/[BONUS TRACK 1] activations_{i_d + 1}.png')\n",
    "    plt.show()"
   ],
   "metadata": {
    "collapsed": false,
    "pycharm": {
     "is_executing": true
    }
   }
  },
  {
   "cell_type": "code",
   "execution_count": null,
   "outputs": [],
   "source": [],
   "metadata": {
    "collapsed": false,
    "pycharm": {
     "is_executing": true
    }
   }
  }
 ],
 "metadata": {
  "kernelspec": {
   "display_name": "Python 3",
   "language": "python",
   "name": "python3"
  },
  "language_info": {
   "codemirror_mode": {
    "name": "ipython",
    "version": 2
   },
   "file_extension": ".py",
   "mimetype": "text/x-python",
   "name": "python",
   "nbconvert_exporter": "python",
   "pygments_lexer": "ipython2",
   "version": "2.7.6"
  }
 },
 "nbformat": 4,
 "nbformat_minor": 0
}

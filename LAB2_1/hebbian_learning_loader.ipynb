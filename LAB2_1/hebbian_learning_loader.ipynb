{
 "cells": [
  {
   "attachments": {},
   "cell_type": "markdown",
   "metadata": {},
   "source": [
    "# Hebbian learning loader\n",
    "\n",
    "Notebook used to load output variables of hebbian learning analysis."
   ]
  },
  {
   "cell_type": "code",
   "execution_count": 1,
   "metadata": {},
   "outputs": [],
   "source": [
    "import numpy as np\n",
    "import os"
   ]
  },
  {
   "attachments": {},
   "cell_type": "markdown",
   "metadata": {},
   "source": [
    "Load variables on a dictionary that has filename as key and the loaded variable as value."
   ]
  },
  {
   "cell_type": "code",
   "execution_count": 2,
   "metadata": {},
   "outputs": [],
   "source": [
    "BASE_DIR = 'hebbian_learning_assets/output_data/'\n",
    "\n",
    "variables = {}\n",
    "for filename in os.listdir(BASE_DIR):\n",
    "    variables[filename] = np.load(f'{BASE_DIR}{filename}')"
   ]
  },
  {
   "attachments": {},
   "cell_type": "markdown",
   "metadata": {},
   "source": [
    "Print the dictionary keys."
   ]
  },
  {
   "cell_type": "code",
   "execution_count": 3,
   "metadata": {},
   "outputs": [
    {
     "data": {
      "text/plain": [
       "['Basic Hebbian rule - dataset2 - weights evolution.npy',\n",
       " 'Covariance rule - initial_theta=0.1 - weights evolution.npy',\n",
       " 'Oja rule [alpha=0.01] - weights evolution.npy',\n",
       " 'Oja rule [alpha=0.001] - weights evolution.npy',\n",
       " 'Covariance rule - initial_theta=10 - weights evolution.npy',\n",
       " 'Covariance rule - initial_theta=50 - weights evolution.npy',\n",
       " 'BCM rule - dataset2 - stable=True, initial_theta=1, theta_lr=0.1 - weights evolution.npy',\n",
       " 'Oja rule [alpha=0.5] - weights evolution.npy',\n",
       " 'BCM rule - dataset2 - stable=True, initial_theta=0.1, theta_lr=0.1 - weights evolution.npy',\n",
       " 'Subtractive normalization rule - weights evolution.npy',\n",
       " 'Basic Hebbian rule - weights evolution.npy',\n",
       " 'Oja rule [alpha=0.3] - weights evolution.npy',\n",
       " 'BCM rule - initial_W=[0.77132064 0.02075195], stable=True, initial_theta=0.01, theta_lr=0.01 - weights evolution.npy',\n",
       " 'BCM rule - initial_W=[0.77132064 0.02075195], stable=True, initial_theta=0.1, theta_lr=0.1 - weights evolution.npy',\n",
       " 'BCM rule - initial_W=[0.77132064 0.02075195], stable=True, initial_theta=0.01, theta_lr=0.1 - weights evolution.npy',\n",
       " 'BCM rule - initial_W=[ 1.  -0.8], stable=True, initial_theta=0.01, theta_lr=0.1 - weights evolution.npy',\n",
       " 'BCM rule - initial_W=[0.77132064 0.02075195], stable=False, initial_theta=0.01 - weights evolution.npy',\n",
       " 'BCM rule - dataset2 - stable=False, initial_theta=0.1 - weights evolution.npy',\n",
       " 'Covariance rule - initial_theta=30 - weights evolution.npy',\n",
       " 'Oja rule [alpha=1] - weights evolution.npy']"
      ]
     },
     "execution_count": 3,
     "metadata": {},
     "output_type": "execute_result"
    }
   ],
   "source": [
    "list(variables.keys())"
   ]
  },
  {
   "attachments": {},
   "cell_type": "markdown",
   "metadata": {},
   "source": [
    "Print the dictionary."
   ]
  },
  {
   "cell_type": "code",
   "execution_count": 4,
   "metadata": {},
   "outputs": [
    {
     "data": {
      "text/plain": [
       "{'Basic Hebbian rule - dataset2 - weights evolution.npy': array([[ 7.71320643e-01,  2.07519494e-02],\n",
       "        [ 7.71743072e-01,  2.05069215e-02],\n",
       "        [ 7.71883325e-01,  2.03326793e-02],\n",
       "        ...,\n",
       "        [ 1.71367443e+12, -1.69991812e+12],\n",
       "        [ 1.71413200e+12, -1.69994185e+12],\n",
       "        [ 1.71640873e+12, -1.70123340e+12]]),\n",
       " 'Covariance rule - initial_theta=0.1 - weights evolution.npy': array([[ 7.71320643e-01,  2.07519494e-02],\n",
       "        [ 7.71686438e-01,  2.04502873e-02],\n",
       "        [ 7.71794341e-01,  2.02436892e-02],\n",
       "        ...,\n",
       "        [ 1.71554570e+12, -1.69428771e+12],\n",
       "        [ 1.71609455e+12, -1.69422059e+12],\n",
       "        [ 1.71861702e+12, -1.69526469e+12]]),\n",
       " 'Oja rule [alpha=0.01] - weights evolution.npy': array([[ 0.77132064,  0.02075195],\n",
       "        [ 0.7717406 ,  0.02050685],\n",
       "        [ 0.77188004,  0.02033259],\n",
       "        ...,\n",
       "        [ 7.10083266, -7.04136934],\n",
       "        [ 7.10172347, -7.04047094],\n",
       "        [ 7.1037231 , -7.03845351]]),\n",
       " 'Oja rule [alpha=0.001] - weights evolution.npy': array([[ 7.71320643e-01,  2.07519494e-02],\n",
       "        [ 7.71742825e-01,  2.05069148e-02],\n",
       "        [ 7.71882997e-01,  2.03326706e-02],\n",
       "        ...,\n",
       "        [ 2.24520402e+01, -2.22695583e+01],\n",
       "        [ 2.24548577e+01, -2.22667176e+01],\n",
       "        [ 2.24611845e+01, -2.22603360e+01]]),\n",
       " 'Covariance rule - initial_theta=10 - weights evolution.npy': array([[ 7.71320643e-01,  2.07519494e-02],\n",
       "        [ 7.66079652e-01,  1.48435012e-02],\n",
       "        [ 7.62978998e-01,  1.14277742e-02],\n",
       "        ...,\n",
       "        [ 1.65617350e+12, -1.36191993e+12],\n",
       "        [ 1.66531400e+12, -1.35324069e+12],\n",
       "        [ 1.68981318e+12, -1.33198275e+12]]),\n",
       " 'Covariance rule - initial_theta=50 - weights evolution.npy': array([[ 7.71320643e-01,  2.07519494e-02],\n",
       "        [ 7.43425971e-01, -7.81017970e-03],\n",
       "        [ 7.27242692e-01, -2.43108458e-02],\n",
       "        ...,\n",
       "        [-2.40351154e+11, -1.80205296e+12],\n",
       "        [-2.44088995e+11, -1.80575157e+12],\n",
       "        [-2.07456458e+11, -1.77015853e+12]]),\n",
       " 'BCM rule - dataset2 - stable=True, initial_theta=1, theta_lr=0.1 - weights evolution.npy': array([[0.77132064, 0.02075195],\n",
       "        [0.75587106, 0.02971341],\n",
       "        [0.74861645, 0.03872611],\n",
       "        ...,\n",
       "        [0.29275253, 0.34955886],\n",
       "        [0.29169389, 0.34961378],\n",
       "        [0.29090907, 0.35005899]]),\n",
       " 'Oja rule [alpha=0.5] - weights evolution.npy': array([[ 0.77132064,  0.02075195],\n",
       "        [ 0.77161937,  0.02050359],\n",
       "        [ 0.77171924,  0.02032831],\n",
       "        ...,\n",
       "        [ 1.00532914, -0.99466932],\n",
       "        [ 1.00545494, -0.99454215],\n",
       "        [ 1.00573633, -0.99425763]]),\n",
       " 'BCM rule - dataset2 - stable=True, initial_theta=0.1, theta_lr=0.1 - weights evolution.npy': array([[0.77132064, 0.02075195],\n",
       "        [0.79008779, 0.00986615],\n",
       "        [0.79324492, 0.00594392],\n",
       "        ...,\n",
       "        [0.28157589, 0.33542698],\n",
       "        [0.28059985, 0.33547761],\n",
       "        [0.27987025, 0.3358915 ]]),\n",
       " 'Subtractive normalization rule - weights evolution.npy': array([[ 7.71320643e-01,  2.07519494e-02],\n",
       "        [ 7.71654372e-01,  2.04182210e-02],\n",
       "        [ 7.71811624e-01,  2.02609689e-02],\n",
       "        ...,\n",
       "        [ 1.70639673e+12, -1.70639673e+12],\n",
       "        [ 1.70663646e+12, -1.70663646e+12],\n",
       "        [ 1.70841813e+12, -1.70841813e+12]]),\n",
       " 'Basic Hebbian rule - weights evolution.npy': array([[ 7.71320643e-01,  2.07519494e-02],\n",
       "        [ 7.71743072e-01,  2.05069215e-02],\n",
       "        [ 7.71883325e-01,  2.03326793e-02],\n",
       "        ...,\n",
       "        [ 1.71367443e+12, -1.69991812e+12],\n",
       "        [ 1.71413200e+12, -1.69994185e+12],\n",
       "        [ 1.71640873e+12, -1.70123340e+12]]),\n",
       " 'Oja rule [alpha=0.3] - weights evolution.npy': array([[ 0.77132064,  0.02075195],\n",
       "        [ 0.77166885,  0.02050492],\n",
       "        [ 0.77178487,  0.02033006],\n",
       "        ...,\n",
       "        [ 1.297491  , -1.28449972],\n",
       "        [ 1.29765348, -1.28433559],\n",
       "        [ 1.29801722, -1.283968  ]]),\n",
       " 'BCM rule - initial_W=[0.77132064 0.02075195], stable=True, initial_theta=0.01, theta_lr=0.01 - weights evolution.npy': array([[0.77132064, 0.02075195],\n",
       "        [0.77365767, 0.01939637],\n",
       "        [0.77409566, 0.01885223],\n",
       "        ...,\n",
       "        [0.34706524, 0.36708081],\n",
       "        [0.34691375, 0.36708867],\n",
       "        [0.34674354, 0.36718523]]),\n",
       " 'BCM rule - initial_W=[0.77132064 0.02075195], stable=True, initial_theta=0.1, theta_lr=0.1 - weights evolution.npy': array([[0.77132064, 0.02075195],\n",
       "        [0.79008779, 0.00986615],\n",
       "        [0.79324492, 0.00594392],\n",
       "        ...,\n",
       "        [0.28157589, 0.33542698],\n",
       "        [0.28059985, 0.33547761],\n",
       "        [0.27987025, 0.3358915 ]]),\n",
       " 'BCM rule - initial_W=[0.77132064 0.02075195], stable=True, initial_theta=0.01, theta_lr=0.1 - weights evolution.npy': array([[0.77132064, 0.02075195],\n",
       "        [0.79350947, 0.00788143],\n",
       "        [0.79779929, 0.002552  ],\n",
       "        ...,\n",
       "        [0.28160829, 0.33546858],\n",
       "        [0.28063202, 0.33551922],\n",
       "        [0.27990227, 0.3359332 ]]),\n",
       " 'BCM rule - initial_W=[ 1.  -0.8], stable=True, initial_theta=0.01, theta_lr=0.1 - weights evolution.npy': array([[ 1.        , -0.8       ],\n",
       "        [ 1.07850023, -0.84553369],\n",
       "        [ 1.1074017 , -0.88143919],\n",
       "        ...,\n",
       "        [-0.00427134, -0.03282309],\n",
       "        [-0.0042714 , -0.03282309],\n",
       "        [-0.00428796, -0.0328137 ]]),\n",
       " 'BCM rule - initial_W=[0.77132064 0.02075195], stable=False, initial_theta=0.01 - weights evolution.npy': array([[0.77132064, 0.02075195],\n",
       "        [0.79482214, 0.00712002],\n",
       "        [0.79970765, 0.00105054],\n",
       "        ...,\n",
       "        [       nan,        nan],\n",
       "        [       nan,        nan],\n",
       "        [       nan,        nan]]),\n",
       " 'BCM rule - dataset2 - stable=False, initial_theta=0.1 - weights evolution.npy': array([[0.77132064, 0.02075195],\n",
       "        [0.79102028, 0.00932527],\n",
       "        [0.79450521, 0.0049958 ],\n",
       "        ...,\n",
       "        [       nan,        nan],\n",
       "        [       nan,        nan],\n",
       "        [       nan,        nan]]),\n",
       " 'Covariance rule - initial_theta=30 - weights evolution.npy': array([[ 7.71320643e-01,  2.07519494e-02],\n",
       "        [ 7.54752811e-01,  3.51666077e-03],\n",
       "        [ 7.45134645e-01, -6.41773584e-03],\n",
       "        ...,\n",
       "        [ 6.94324988e+11, -1.51725822e+12],\n",
       "        [ 7.06207957e+11, -1.50558175e+12],\n",
       "        [ 7.50690118e+11, -1.46317822e+12]]),\n",
       " 'Oja rule [alpha=1] - weights evolution.npy': array([[ 0.77132064,  0.02075195],\n",
       "        [ 0.77149568,  0.02050027],\n",
       "        [ 0.77155519,  0.02032393],\n",
       "        ...,\n",
       "        [ 0.71127712, -0.70293117],\n",
       "        [ 0.71136602, -0.70284121],\n",
       "        [ 0.71156448, -0.7026403 ]])}"
      ]
     },
     "execution_count": 4,
     "metadata": {},
     "output_type": "execute_result"
    }
   ],
   "source": [
    "variables"
   ]
  }
 ],
 "metadata": {
  "kernelspec": {
   "display_name": "venv",
   "language": "python",
   "name": "python3"
  },
  "language_info": {
   "codemirror_mode": {
    "name": "ipython",
    "version": 3
   },
   "file_extension": ".py",
   "mimetype": "text/x-python",
   "name": "python",
   "nbconvert_exporter": "python",
   "pygments_lexer": "ipython3",
   "version": "3.10.8"
  },
  "orig_nbformat": 4
 },
 "nbformat": 4,
 "nbformat_minor": 2
}
